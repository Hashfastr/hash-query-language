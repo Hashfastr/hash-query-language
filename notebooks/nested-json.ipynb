{
 "cells": [
  {
   "cell_type": "code",
   "execution_count": 210,
   "metadata": {},
   "outputs": [],
   "source": [
    "import polars as pl\n",
    "import json\n",
    "\n",
    "with open('./sysmon-3.json') as f:\n",
    "  src_json = json.loads(f.read())\n",
    "src = pl.from_dicts(src_json)\n",
    "  \n",
    "with open('./super-nested.json') as f:\n",
    "  super_nested_json = json.loads(f.read())\n",
    "super_nested = pl.from_dicts(super_nested_json)"
   ]
  },
  {
   "cell_type": "code",
   "execution_count": 211,
   "metadata": {},
   "outputs": [
    {
     "data": {
      "text/html": [
       "<div><style>\n",
       ".dataframe > thead > tr,\n",
       ".dataframe > tbody > tr {\n",
       "  text-align: right;\n",
       "  white-space: pre-wrap;\n",
       "}\n",
       "</style>\n",
       "<small>shape: (3, 18)</small><table border=\"1\" class=\"dataframe\"><thead><tr><th>_index</th><th>_type</th><th>_id</th><th>_score</th><th>metadata</th><th>agent</th><th>process</th><th>winlog</th><th>log</th><th>message</th><th>tags</th><th>observer</th><th>@timestamp</th><th>ecs</th><th>host</th><th>@version</th><th>event</th><th>user</th></tr><tr><td>str</td><td>str</td><td>str</td><td>f64</td><td>struct[4]</td><td>struct[6]</td><td>struct[8]</td><td>struct[13]</td><td>struct[1]</td><td>str</td><td>list[str]</td><td>struct[1]</td><td>str</td><td>struct[1]</td><td>struct[7]</td><td>str</td><td>struct[8]</td><td>struct[1]</td></tr></thead><tbody><tr><td>&quot;so-beats-2022.10.21&quot;</td><td>&quot;_doc&quot;</td><td>&quot;p5M9-4MBqn-zbgNi1QBP&quot;</td><td>12.011028</td><td>{&quot;winlogbeat&quot;,&quot;192.168.125.10&quot;,&quot;_doc&quot;,&quot;7.17.1&quot;}</td><td>{&quot;asarea&quot;,&quot;asarea&quot;,&quot;6637b2dd-689f-4ab6-9581-34a1268d4a6d&quot;,&quot;cf4a3abc-4d74-4a05-affa-dd08e5306cb2&quot;,&quot;winlogbeat&quot;,&quot;7.17.1&quot;}</td><td>{{&quot;{93591ace-ae34-6348-1000-000000000700}&quot;,&quot;C:\\Windows\\system32\\svchost.exe -k DcomLaunch -p&quot;,&quot;C:\\Windows\\System32\\svchost.exe&quot;},{&quot;10.0.18362.1 (WinBuild.160101.0800)&quot;,&quot;Microsoft® Windows® Operating System&quot;,&quot;WMI Provider Host&quot;,&quot;Microsoft Corporation&quot;,&quot;Wmiprvse.exe&quot;},&quot;4856&quot;,&quot;C:\\Windows\\system32\\&quot;,&quot;{93591ace-bff2-6352-4e19-000000000700}&quot;,&quot;C:\\Windows\\System32\\wbem\\WmiPrvSE.exe&quot;,&quot;C:\\Windows\\system32\\wbem\\wmiprvse.exe -secured -Embedding&quot;,&quot;808&quot;}</td><td>{&quot;asarea.vxnwua.net&quot;,{4176,{7140}},&quot;Microsoft-Windows-Sysmon/Operational&quot;,{&quot;{93591ace-ae35-6348-e403-000000000000}&quot;,&quot;0&quot;,&quot;System&quot;,&quot;NT AUTHORITY\\SYSTEM&quot;,&quot;2022-10-21 15:51:14.451&quot;,&quot;MD5=801E8003C257C8F540B20F1E0DECD3A6&quot;,&quot;0x3e4&quot;,&quot;-&quot;},&quot;Info&quot;,5,6386012,&quot;Process Create (rule: ProcessCreate)&quot;,&quot;1&quot;,&quot;{5770385f-c22a-43e0-bf4c-06f5698ffbd9}&quot;,&quot;wineventlog&quot;,&quot;Microsoft-Windows-Sysmon&quot;,{&quot;S-1-5-18&quot;,&quot;NT AUTHORITY&quot;,&quot;SYSTEM&quot;,&quot;User&quot;}}</td><td>{&quot;information&quot;}</td><td>&quot;Process Create:\n",
       "RuleName: -\n",
       "Ut…</td><td>[&quot;beat-ext&quot;, &quot;beats_input_codec_plain_applied&quot;]</td><td>{&quot;asarea.vxnwua.net&quot;}</td><td>&quot;2022-10-21T15:51:14.476Z&quot;</td><td>{&quot;1.12.0&quot;}</td><td>{&quot;asarea&quot;,{&quot;18362.239&quot;,&quot;10.0.18362.239 (WinBuild.160101.0800)&quot;,&quot;Windows 10 Pro&quot;,&quot;windows&quot;,&quot;windows&quot;,&quot;10.0&quot;,&quot;windows&quot;},[&quot;fe80::112c:2008:42d7:6c99&quot;, &quot;192.168.125.10&quot;],&quot;asarea.vxnwua.net&quot;,&quot;93591ace-8aa7-449c-a6ea-adbb095693e4&quot;,[&quot;e6:71:7f:aa:77:35&quot;],&quot;x86_64&quot;}</td><td>&quot;1&quot;</td><td>{&quot;1&quot;,&quot;Microsoft-Windows-Sysmon&quot;,&quot;2022-10-21T15:51:15.633Z&quot;,&quot;event&quot;,&quot;sysmon&quot;,&quot;Process Create (rule: ProcessCreate)&quot;,&quot;host,process&quot;,&quot;process_creation&quot;}</td><td>{&quot;NT AUTHORITY\\NETWORK SERVICE&quot;}</td></tr><tr><td>&quot;so-beats-2022.10.21&quot;</td><td>&quot;_doc&quot;</td><td>&quot;_pM9-4MBqn-zbgNi1QBi&quot;</td><td>12.011028</td><td>{&quot;winlogbeat&quot;,&quot;192.168.125.10&quot;,&quot;_doc&quot;,&quot;7.17.1&quot;}</td><td>{&quot;asarea&quot;,&quot;asarea&quot;,&quot;6637b2dd-689f-4ab6-9581-34a1268d4a6d&quot;,&quot;cf4a3abc-4d74-4a05-affa-dd08e5306cb2&quot;,&quot;winlogbeat&quot;,&quot;7.17.1&quot;}</td><td>{{&quot;{93591ace-ae33-6348-0b00-000000000700}&quot;,&quot;C:\\Windows\\system32\\services.exe&quot;,&quot;C:\\Windows\\System32\\services.exe&quot;},{&quot;10.0.18362.239 (WinBuild.160101.0800)&quot;,&quot;Microsoft® Windows® Operating System&quot;,&quot;Microsoft Software Protection Platform Service&quot;,&quot;Microsoft Corporation&quot;,&quot;sppsvc.exe&quot;},&quot;1828&quot;,&quot;C:\\Windows&quot;,&quot;{93591ace-bff3-6352-4f19-000000000700}&quot;,&quot;C:\\Windows\\System32\\sppsvc.exe&quot;,&quot;C:\\Windows\\system32\\sppsvc.exe&quot;,&quot;612&quot;}</td><td>{&quot;asarea.vxnwua.net&quot;,{4176,{7140}},&quot;Microsoft-Windows-Sysmon/Operational&quot;,{&quot;{93591ace-ae35-6348-e403-000000000000}&quot;,&quot;0&quot;,&quot;System&quot;,&quot;NT AUTHORITY\\SYSTEM&quot;,&quot;2022-10-21 15:51:15.015&quot;,&quot;MD5=AAB634FA7C0EEEE6EE64C138A5FDBC89&quot;,&quot;0x3e4&quot;,&quot;-&quot;},&quot;Info&quot;,5,6386151,&quot;Process Create (rule: ProcessCreate)&quot;,&quot;1&quot;,&quot;{5770385f-c22a-43e0-bf4c-06f5698ffbd9}&quot;,&quot;wineventlog&quot;,&quot;Microsoft-Windows-Sysmon&quot;,{&quot;S-1-5-18&quot;,&quot;NT AUTHORITY&quot;,&quot;SYSTEM&quot;,&quot;User&quot;}}</td><td>{&quot;information&quot;}</td><td>&quot;Process Create:\n",
       "RuleName: -\n",
       "Ut…</td><td>[&quot;beat-ext&quot;, &quot;beats_input_codec_plain_applied&quot;]</td><td>{&quot;asarea.vxnwua.net&quot;}</td><td>&quot;2022-10-21T15:51:15.050Z&quot;</td><td>{&quot;1.12.0&quot;}</td><td>{&quot;asarea&quot;,{&quot;18362.239&quot;,&quot;10.0.18362.239 (WinBuild.160101.0800)&quot;,&quot;Windows 10 Pro&quot;,&quot;windows&quot;,&quot;windows&quot;,&quot;10.0&quot;,&quot;windows&quot;},[&quot;fe80::112c:2008:42d7:6c99&quot;, &quot;192.168.125.10&quot;],&quot;asarea.vxnwua.net&quot;,&quot;93591ace-8aa7-449c-a6ea-adbb095693e4&quot;,[&quot;e6:71:7f:aa:77:35&quot;],&quot;x86_64&quot;}</td><td>&quot;1&quot;</td><td>{&quot;1&quot;,&quot;Microsoft-Windows-Sysmon&quot;,&quot;2022-10-21T15:51:15.919Z&quot;,&quot;event&quot;,&quot;sysmon&quot;,&quot;Process Create (rule: ProcessCreate)&quot;,&quot;host,process&quot;,&quot;process_creation&quot;}</td><td>{&quot;NT AUTHORITY\\NETWORK SERVICE&quot;}</td></tr><tr><td>&quot;so-beats-2022.10.21&quot;</td><td>&quot;_doc&quot;</td><td>&quot;RZI9-4MBqn-zbgNiyP4R&quot;</td><td>12.011028</td><td>{&quot;winlogbeat&quot;,&quot;192.168.125.10&quot;,&quot;_doc&quot;,&quot;7.17.1&quot;}</td><td>{&quot;asarea&quot;,&quot;asarea&quot;,&quot;6637b2dd-689f-4ab6-9581-34a1268d4a6d&quot;,&quot;cf4a3abc-4d74-4a05-affa-dd08e5306cb2&quot;,&quot;winlogbeat&quot;,&quot;7.17.1&quot;}</td><td>{{&quot;{93591ace-ae36-6348-1d00-000000000700}&quot;,&quot;C:\\Windows\\system32\\svchost.exe -k netsvcs -p -s Schedule&quot;,&quot;C:\\Windows\\System32\\svchost.exe&quot;},{&quot;10.0.18362.1 (WinBuild.160101.0800)&quot;,&quot;Microsoft® Windows® Operating System&quot;,&quot;Host Process for Windows Tasks&quot;,&quot;Microsoft Corporation&quot;,&quot;taskhostw.exe&quot;},&quot;9128&quot;,&quot;C:\\Windows\\system32\\&quot;,&quot;{93591ace-bfef-6352-4d19-000000000700}&quot;,&quot;C:\\Windows\\System32\\taskhostw.exe&quot;,&quot;taskhostw.exe&quot;,&quot;1188&quot;}</td><td>{&quot;asarea.vxnwua.net&quot;,{4176,{7140}},&quot;Microsoft-Windows-Sysmon/Operational&quot;,{&quot;{93591ace-ae33-6348-e703-000000000000}&quot;,&quot;0&quot;,&quot;System&quot;,&quot;NT AUTHORITY\\SYSTEM&quot;,&quot;2022-10-21 15:51:11.081&quot;,&quot;MD5=DE1185DC5EA6E4A153AF5696C88E610D&quot;,&quot;0x3e7&quot;,&quot;-&quot;},&quot;Info&quot;,5,6385092,&quot;Process Create (rule: ProcessCreate)&quot;,&quot;1&quot;,&quot;{5770385f-c22a-43e0-bf4c-06f5698ffbd9}&quot;,&quot;wineventlog&quot;,&quot;Microsoft-Windows-Sysmon&quot;,{&quot;S-1-5-18&quot;,&quot;NT AUTHORITY&quot;,&quot;SYSTEM&quot;,&quot;User&quot;}}</td><td>{&quot;information&quot;}</td><td>&quot;Process Create:\n",
       "RuleName: -\n",
       "Ut…</td><td>[&quot;beat-ext&quot;, &quot;beats_input_codec_plain_applied&quot;]</td><td>{&quot;asarea.vxnwua.net&quot;}</td><td>&quot;2022-10-21T15:51:11.115Z&quot;</td><td>{&quot;1.12.0&quot;}</td><td>{&quot;asarea&quot;,{&quot;18362.239&quot;,&quot;10.0.18362.239 (WinBuild.160101.0800)&quot;,&quot;Windows 10 Pro&quot;,&quot;windows&quot;,&quot;windows&quot;,&quot;10.0&quot;,&quot;windows&quot;},[&quot;fe80::112c:2008:42d7:6c99&quot;, &quot;192.168.125.10&quot;],&quot;asarea.vxnwua.net&quot;,&quot;93591ace-8aa7-449c-a6ea-adbb095693e4&quot;,[&quot;e6:71:7f:aa:77:35&quot;],&quot;x86_64&quot;}</td><td>&quot;1&quot;</td><td>{&quot;1&quot;,&quot;Microsoft-Windows-Sysmon&quot;,&quot;2022-10-21T15:51:11.972Z&quot;,&quot;event&quot;,&quot;sysmon&quot;,&quot;Process Create (rule: ProcessCreate)&quot;,&quot;host,process&quot;,&quot;process_creation&quot;}</td><td>{&quot;NT AUTHORITY\\SYSTEM&quot;}</td></tr></tbody></table></div>"
      ],
      "text/plain": [
       "shape: (3, 18)\n",
       "┌────────────┬───────┬────────────┬───────────┬───┬────────────┬──────────┬────────────┬───────────┐\n",
       "│ _index     ┆ _type ┆ _id        ┆ _score    ┆ … ┆ host       ┆ @version ┆ event      ┆ user      │\n",
       "│ ---        ┆ ---   ┆ ---        ┆ ---       ┆   ┆ ---        ┆ ---      ┆ ---        ┆ ---       │\n",
       "│ str        ┆ str   ┆ str        ┆ f64       ┆   ┆ struct[7]  ┆ str      ┆ struct[8]  ┆ struct[1] │\n",
       "╞════════════╪═══════╪════════════╪═══════════╪═══╪════════════╪══════════╪════════════╪═══════════╡\n",
       "│ so-beats-2 ┆ _doc  ┆ p5M9-4MBqn ┆ 12.011028 ┆ … ┆ {\"asarea\", ┆ 1        ┆ {\"1\",\"Micr ┆ {\"NT AUTH │\n",
       "│ 022.10.21  ┆       ┆ -zbgNi1QBP ┆           ┆   ┆ {\"18362.23 ┆          ┆ osoft-Wind ┆ ORITY\\NET │\n",
       "│            ┆       ┆            ┆           ┆   ┆ 9\",\"10.0.1 ┆          ┆ ows-Sysmon ┆ WORK      │\n",
       "│            ┆       ┆            ┆           ┆   ┆ …          ┆          ┆ …          ┆ SERVICE…  │\n",
       "│ so-beats-2 ┆ _doc  ┆ _pM9-4MBqn ┆ 12.011028 ┆ … ┆ {\"asarea\", ┆ 1        ┆ {\"1\",\"Micr ┆ {\"NT AUTH │\n",
       "│ 022.10.21  ┆       ┆ -zbgNi1QBi ┆           ┆   ┆ {\"18362.23 ┆          ┆ osoft-Wind ┆ ORITY\\NET │\n",
       "│            ┆       ┆            ┆           ┆   ┆ 9\",\"10.0.1 ┆          ┆ ows-Sysmon ┆ WORK      │\n",
       "│            ┆       ┆            ┆           ┆   ┆ …          ┆          ┆ …          ┆ SERVICE…  │\n",
       "│ so-beats-2 ┆ _doc  ┆ RZI9-4MBqn ┆ 12.011028 ┆ … ┆ {\"asarea\", ┆ 1        ┆ {\"1\",\"Micr ┆ {\"NT AUTH │\n",
       "│ 022.10.21  ┆       ┆ -zbgNiyP4R ┆           ┆   ┆ {\"18362.23 ┆          ┆ osoft-Wind ┆ ORITY\\SYS │\n",
       "│            ┆       ┆            ┆           ┆   ┆ 9\",\"10.0.1 ┆          ┆ ows-Sysmon ┆ TEM\"}     │\n",
       "│            ┆       ┆            ┆           ┆   ┆ …          ┆          ┆ …          ┆           │\n",
       "└────────────┴───────┴────────────┴───────────┴───┴────────────┴──────────┴────────────┴───────────┘"
      ]
     },
     "execution_count": 211,
     "metadata": {},
     "output_type": "execute_result"
    }
   ],
   "source": [
    "src"
   ]
  },
  {
   "cell_type": "markdown",
   "metadata": {},
   "source": [
    "## Goal\n",
    "Extract the following fields while maintaining structure:\n",
    "```\n",
    "@timestamp, host.name, host.os.name, process.command_line\n",
    "```"
   ]
  },
  {
   "cell_type": "markdown",
   "metadata": {},
   "source": [
    "## Accessing an column of strings"
   ]
  },
  {
   "cell_type": "code",
   "execution_count": 244,
   "metadata": {},
   "outputs": [
    {
     "data": {
      "text/html": [
       "<div><style>\n",
       ".dataframe > thead > tr,\n",
       ".dataframe > tbody > tr {\n",
       "  text-align: right;\n",
       "  white-space: pre-wrap;\n",
       "}\n",
       "</style>\n",
       "<small>shape: (3, 1)</small><table border=\"1\" class=\"dataframe\"><thead><tr><th>@timestamp</th></tr><tr><td>str</td></tr></thead><tbody><tr><td>&quot;2022-10-21T15:51:14.476Z&quot;</td></tr><tr><td>&quot;2022-10-21T15:51:15.050Z&quot;</td></tr><tr><td>&quot;2022-10-21T15:51:11.115Z&quot;</td></tr></tbody></table></div>"
      ],
      "text/plain": [
       "shape: (3, 1)\n",
       "┌──────────────────────────┐\n",
       "│ @timestamp               │\n",
       "│ ---                      │\n",
       "│ str                      │\n",
       "╞══════════════════════════╡\n",
       "│ 2022-10-21T15:51:14.476Z │\n",
       "│ 2022-10-21T15:51:15.050Z │\n",
       "│ 2022-10-21T15:51:11.115Z │\n",
       "└──────────────────────────┘"
      ]
     },
     "execution_count": 244,
     "metadata": {},
     "output_type": "execute_result"
    }
   ],
   "source": [
    "src.select('@timestamp')"
   ]
  },
  {
   "cell_type": "markdown",
   "metadata": {},
   "source": [
    "## Accessing column of objects"
   ]
  },
  {
   "cell_type": "code",
   "execution_count": 246,
   "metadata": {},
   "outputs": [
    {
     "data": {
      "text/html": [
       "<div><style>\n",
       ".dataframe > thead > tr,\n",
       ".dataframe > tbody > tr {\n",
       "  text-align: right;\n",
       "  white-space: pre-wrap;\n",
       "}\n",
       "</style>\n",
       "<small>shape: (3, 7)</small><table border=\"1\" class=\"dataframe\"><thead><tr><th>hostname</th><th>os</th><th>ip</th><th>name</th><th>id</th><th>mac</th><th>architecture</th></tr><tr><td>str</td><td>struct[7]</td><td>list[str]</td><td>str</td><td>str</td><td>list[str]</td><td>str</td></tr></thead><tbody><tr><td>&quot;asarea&quot;</td><td>{&quot;18362.239&quot;,&quot;10.0.18362.239 (WinBuild.160101.0800)&quot;,&quot;Windows 10 Pro&quot;,&quot;windows&quot;,&quot;windows&quot;,&quot;10.0&quot;,&quot;windows&quot;}</td><td>[&quot;fe80::112c:2008:42d7:6c99&quot;, &quot;192.168.125.10&quot;]</td><td>&quot;asarea.vxnwua.net&quot;</td><td>&quot;93591ace-8aa7-449c-a6ea-adbb09…</td><td>[&quot;e6:71:7f:aa:77:35&quot;]</td><td>&quot;x86_64&quot;</td></tr><tr><td>&quot;asarea&quot;</td><td>{&quot;18362.239&quot;,&quot;10.0.18362.239 (WinBuild.160101.0800)&quot;,&quot;Windows 10 Pro&quot;,&quot;windows&quot;,&quot;windows&quot;,&quot;10.0&quot;,&quot;windows&quot;}</td><td>[&quot;fe80::112c:2008:42d7:6c99&quot;, &quot;192.168.125.10&quot;]</td><td>&quot;asarea.vxnwua.net&quot;</td><td>&quot;93591ace-8aa7-449c-a6ea-adbb09…</td><td>[&quot;e6:71:7f:aa:77:35&quot;]</td><td>&quot;x86_64&quot;</td></tr><tr><td>&quot;asarea&quot;</td><td>{&quot;18362.239&quot;,&quot;10.0.18362.239 (WinBuild.160101.0800)&quot;,&quot;Windows 10 Pro&quot;,&quot;windows&quot;,&quot;windows&quot;,&quot;10.0&quot;,&quot;windows&quot;}</td><td>[&quot;fe80::112c:2008:42d7:6c99&quot;, &quot;192.168.125.10&quot;]</td><td>&quot;asarea.vxnwua.net&quot;</td><td>&quot;93591ace-8aa7-449c-a6ea-adbb09…</td><td>[&quot;e6:71:7f:aa:77:35&quot;]</td><td>&quot;x86_64&quot;</td></tr></tbody></table></div>"
      ],
      "text/plain": [
       "shape: (3, 7)\n",
       "┌──────────┬──────────────┬──────────────┬──────────────┬──────────────┬─────────────┬─────────────┐\n",
       "│ hostname ┆ os           ┆ ip           ┆ name         ┆ id           ┆ mac         ┆ architectur │\n",
       "│ ---      ┆ ---          ┆ ---          ┆ ---          ┆ ---          ┆ ---         ┆ e           │\n",
       "│ str      ┆ struct[7]    ┆ list[str]    ┆ str          ┆ str          ┆ list[str]   ┆ ---         │\n",
       "│          ┆              ┆              ┆              ┆              ┆             ┆ str         │\n",
       "╞══════════╪══════════════╪══════════════╪══════════════╪══════════════╪═════════════╪═════════════╡\n",
       "│ asarea   ┆ {\"18362.239\" ┆ [\"fe80::112c ┆ asarea.vxnwu ┆ 93591ace-8aa ┆ [\"e6:71:7f: ┆ x86_64      │\n",
       "│          ┆ ,\"10.0.18362 ┆ :2008:42d7:6 ┆ a.net        ┆ 7-449c-a6ea- ┆ aa:77:35\"]  ┆             │\n",
       "│          ┆ .239 (…      ┆ c99\", …      ┆              ┆ adbb09…      ┆             ┆             │\n",
       "│ asarea   ┆ {\"18362.239\" ┆ [\"fe80::112c ┆ asarea.vxnwu ┆ 93591ace-8aa ┆ [\"e6:71:7f: ┆ x86_64      │\n",
       "│          ┆ ,\"10.0.18362 ┆ :2008:42d7:6 ┆ a.net        ┆ 7-449c-a6ea- ┆ aa:77:35\"]  ┆             │\n",
       "│          ┆ .239 (…      ┆ c99\", …      ┆              ┆ adbb09…      ┆             ┆             │\n",
       "│ asarea   ┆ {\"18362.239\" ┆ [\"fe80::112c ┆ asarea.vxnwu ┆ 93591ace-8aa ┆ [\"e6:71:7f: ┆ x86_64      │\n",
       "│          ┆ ,\"10.0.18362 ┆ :2008:42d7:6 ┆ a.net        ┆ 7-449c-a6ea- ┆ aa:77:35\"]  ┆             │\n",
       "│          ┆ .239 (…      ┆ c99\", …      ┆              ┆ adbb09…      ┆             ┆             │\n",
       "└──────────┴──────────────┴──────────────┴──────────────┴──────────────┴─────────────┴─────────────┘"
      ]
     },
     "execution_count": 246,
     "metadata": {},
     "output_type": "execute_result"
    }
   ],
   "source": [
    "# Extracts a column of structs, then expands the struct into another frame\n",
    "host = src.select('host')\n",
    "# host['host'].dtype == Struct\n",
    "host = host.unnest('host')\n",
    "host"
   ]
  },
  {
   "cell_type": "code",
   "execution_count": 248,
   "metadata": {},
   "outputs": [],
   "source": [
    "# Extracts a column of structs, then expands the struct into another frame\n",
    "os = host.select('os')\n",
    "# host['host'].dtype == Struct\n",
    "os = os.unnest('os')"
   ]
  },
  {
   "cell_type": "code",
   "execution_count": 249,
   "metadata": {},
   "outputs": [
    {
     "data": {
      "text/html": [
       "<div><style>\n",
       ".dataframe > thead > tr,\n",
       ".dataframe > tbody > tr {\n",
       "  text-align: right;\n",
       "  white-space: pre-wrap;\n",
       "}\n",
       "</style>\n",
       "<small>shape: (3, 1)</small><table border=\"1\" class=\"dataframe\"><thead><tr><th>name</th></tr><tr><td>str</td></tr></thead><tbody><tr><td>&quot;Windows 10 Pro&quot;</td></tr><tr><td>&quot;Windows 10 Pro&quot;</td></tr><tr><td>&quot;Windows 10 Pro&quot;</td></tr></tbody></table></div>"
      ],
      "text/plain": [
       "shape: (3, 1)\n",
       "┌────────────────┐\n",
       "│ name           │\n",
       "│ ---            │\n",
       "│ str            │\n",
       "╞════════════════╡\n",
       "│ Windows 10 Pro │\n",
       "│ Windows 10 Pro │\n",
       "│ Windows 10 Pro │\n",
       "└────────────────┘"
      ]
     },
     "execution_count": 249,
     "metadata": {},
     "output_type": "execute_result"
    }
   ],
   "source": [
    "# Extracts a column of strings from the above\n",
    "name = os.select('name')\n",
    "# name['name'].dtype == String\n",
    "name"
   ]
  },
  {
   "cell_type": "markdown",
   "metadata": {},
   "source": [
    "## Rebuild structured data from the above"
   ]
  },
  {
   "cell_type": "code",
   "execution_count": 216,
   "metadata": {},
   "outputs": [
    {
     "data": {
      "text/html": [
       "<div><style>\n",
       ".dataframe > thead > tr,\n",
       ".dataframe > tbody > tr {\n",
       "  text-align: right;\n",
       "  white-space: pre-wrap;\n",
       "}\n",
       "</style>\n",
       "<small>shape: (3, 1)</small><table border=\"1\" class=\"dataframe\"><thead><tr><th>name</th></tr><tr><td>str</td></tr></thead><tbody><tr><td>&quot;Windows 10 Pro&quot;</td></tr><tr><td>&quot;Windows 10 Pro&quot;</td></tr><tr><td>&quot;Windows 10 Pro&quot;</td></tr></tbody></table></div>"
      ],
      "text/plain": [
       "shape: (3, 1)\n",
       "┌────────────────┐\n",
       "│ name           │\n",
       "│ ---            │\n",
       "│ str            │\n",
       "╞════════════════╡\n",
       "│ Windows 10 Pro │\n",
       "│ Windows 10 Pro │\n",
       "│ Windows 10 Pro │\n",
       "└────────────────┘"
      ]
     },
     "execution_count": 216,
     "metadata": {},
     "output_type": "execute_result"
    }
   ],
   "source": [
    "name_struct = pl.DataFrame(name)\n",
    "name_struct\n"
   ]
  },
  {
   "cell_type": "code",
   "execution_count": 217,
   "metadata": {},
   "outputs": [
    {
     "data": {
      "text/html": [
       "<div><style>\n",
       ".dataframe > thead > tr,\n",
       ".dataframe > tbody > tr {\n",
       "  text-align: right;\n",
       "  white-space: pre-wrap;\n",
       "}\n",
       "</style>\n",
       "<small>shape: (3, 1)</small><table border=\"1\" class=\"dataframe\"><thead><tr><th>os</th></tr><tr><td>struct[1]</td></tr></thead><tbody><tr><td>{&quot;Windows 10 Pro&quot;}</td></tr><tr><td>{&quot;Windows 10 Pro&quot;}</td></tr><tr><td>{&quot;Windows 10 Pro&quot;}</td></tr></tbody></table></div>"
      ],
      "text/plain": [
       "shape: (3, 1)\n",
       "┌────────────────────┐\n",
       "│ os                 │\n",
       "│ ---                │\n",
       "│ struct[1]          │\n",
       "╞════════════════════╡\n",
       "│ {\"Windows 10 Pro\"} │\n",
       "│ {\"Windows 10 Pro\"} │\n",
       "│ {\"Windows 10 Pro\"} │\n",
       "└────────────────────┘"
      ]
     },
     "execution_count": 217,
     "metadata": {},
     "output_type": "execute_result"
    }
   ],
   "source": [
    "os_struct = pl.DataFrame({'os': name_struct.to_struct()})\n",
    "os_struct"
   ]
  },
  {
   "cell_type": "code",
   "execution_count": 218,
   "metadata": {},
   "outputs": [
    {
     "data": {
      "text/html": [
       "<div><style>\n",
       ".dataframe > thead > tr,\n",
       ".dataframe > tbody > tr {\n",
       "  text-align: right;\n",
       "  white-space: pre-wrap;\n",
       "}\n",
       "</style>\n",
       "<small>shape: (3, 1)</small><table border=\"1\" class=\"dataframe\"><thead><tr><th>host</th></tr><tr><td>struct[1]</td></tr></thead><tbody><tr><td>{{&quot;Windows 10 Pro&quot;}}</td></tr><tr><td>{{&quot;Windows 10 Pro&quot;}}</td></tr><tr><td>{{&quot;Windows 10 Pro&quot;}}</td></tr></tbody></table></div>"
      ],
      "text/plain": [
       "shape: (3, 1)\n",
       "┌──────────────────────┐\n",
       "│ host                 │\n",
       "│ ---                  │\n",
       "│ struct[1]            │\n",
       "╞══════════════════════╡\n",
       "│ {{\"Windows 10 Pro\"}} │\n",
       "│ {{\"Windows 10 Pro\"}} │\n",
       "│ {{\"Windows 10 Pro\"}} │\n",
       "└──────────────────────┘"
      ]
     },
     "execution_count": 218,
     "metadata": {},
     "output_type": "execute_result"
    }
   ],
   "source": [
    "host_struct = pl.DataFrame({'host': os_struct.to_struct()})\n",
    "host_struct"
   ]
  },
  {
   "cell_type": "code",
   "execution_count": 219,
   "metadata": {},
   "outputs": [
    {
     "data": {
      "text/plain": [
       "[{'host': {'os': {'name': 'Windows 10 Pro'}}},\n",
       " {'host': {'os': {'name': 'Windows 10 Pro'}}},\n",
       " {'host': {'os': {'name': 'Windows 10 Pro'}}}]"
      ]
     },
     "execution_count": 219,
     "metadata": {},
     "output_type": "execute_result"
    }
   ],
   "source": [
    "# Grab it back out\n",
    "host_struct.to_dicts()"
   ]
  },
  {
   "cell_type": "markdown",
   "metadata": {},
   "source": [
    "## More recursive example"
   ]
  },
  {
   "cell_type": "code",
   "execution_count": 274,
   "metadata": {},
   "outputs": [
    {
     "data": {
      "text/plain": [
       "[{'layer1': {'layer2': {'layer3': {'layer4': {'layer5': {'layer6': {'layer7': {'layer8': {'layer9': {'layer10': 'you win!'}}}}}}}}}},\n",
       " {'layer1': {'layer2': {'layer3': {'layer4': {'layer5': {'layer6': {'layer7': {'layer8': {'layer9': {'layer10': 'you win!'}}}}}}}}}},\n",
       " {'layer1': {'layer2': {'layer3': {'layer4': {'layer5': {'layer6': {'layer7': {'layer8': {'layer9': {'layer10': 'you win!'}}}}}}}}}},\n",
       " {'layer1': {'layer2': {'layer3': {'layer4': {'layer5': {'layer6': {'layer7': {'layer8': {'layer9': {'layer10': 'you win!'}}}}}}}}}},\n",
       " {'layer1': {'layer2': {'layer3': {'layer4': {'layer5': {'layer6': {'layer7': {'layer8': {'layer9': {'layer10': 'you win!'}}}}}}}}}}]"
      ]
     },
     "execution_count": 274,
     "metadata": {},
     "output_type": "execute_result"
    }
   ],
   "source": [
    "field = 'layer1.layer2.layer3.layer4.layer5.layer6.layer7.layer8'\n",
    "\n",
    "def recurse(data:pl.DataFrame, fields:list[str], index:int=0):\n",
    "    if index == len(fields):\n",
    "        return pl.DataFrame({fields[index-1]: data.to_struct()})\n",
    "    \n",
    "    new = data.select(fields[index]).unnest(fields[index])\n",
    "    newi = index + 1\n",
    "    \n",
    "    rec_data = recurse(new, fields, newi)\n",
    "        \n",
    "    if index == 0:\n",
    "        return rec_data\n",
    "    else:\n",
    "        return pl.DataFrame({fields[index-1]: rec_data.to_struct()})\n",
    "    \n",
    "recurse(super_nested, field.split('.')).to_dicts()"
   ]
  },
  {
   "cell_type": "markdown",
   "metadata": {},
   "source": [
    "## Better"
   ]
  },
  {
   "cell_type": "code",
   "execution_count": 289,
   "metadata": {},
   "outputs": [
    {
     "name": "stdout",
     "output_type": "stream",
     "text": [
      "[{'@timestamp': '2022-10-21T15:51:14.476Z'}, {'@timestamp': '2022-10-21T15:51:15.050Z'}, {'@timestamp': '2022-10-21T15:51:11.115Z'}]\n",
      "[{'host': {'name': 'asarea.vxnwua.net'}}, {'host': {'name': 'asarea.vxnwua.net'}}, {'host': {'name': 'asarea.vxnwua.net'}}]\n",
      "[{'host': {'os': {'name': 'Windows 10 Pro'}}}, {'host': {'os': {'name': 'Windows 10 Pro'}}}, {'host': {'os': {'name': 'Windows 10 Pro'}}}]\n",
      "[{'process': {'command_line': 'C:\\\\Windows\\\\system32\\\\wbem\\\\wmiprvse.exe -secured -Embedding'}}, {'process': {'command_line': 'C:\\\\Windows\\\\system32\\\\sppsvc.exe'}}, {'process': {'command_line': 'taskhostw.exe'}}]\n"
     ]
    }
   ],
   "source": [
    "def get_element(data:pl.DataFrame, fields:list[str], index:int=0):\n",
    "    if index == len(fields):\n",
    "        return pl.DataFrame({fields[index-1]: data.to_struct()})\n",
    "    \n",
    "    split = fields[index]\n",
    "  \n",
    "    new = data.select(split)\n",
    "    \n",
    "    if len(fields) == 1:\n",
    "        return new\n",
    "    \n",
    "    # print(new.to_dicts())\n",
    "    \n",
    "    if isinstance(new[split].dtype, pl.Struct):\n",
    "        new = new.unnest(split)\n",
    "    else:\n",
    "        return pl.DataFrame({fields[index-1]: new.to_struct()})\n",
    "        \n",
    "    rec_data = get_element(new, fields, index + 1)\n",
    "    \n",
    "    if index == 0:\n",
    "        return rec_data\n",
    "    else:\n",
    "        return pl.DataFrame({fields[index-1]: rec_data.to_struct()})\n",
    "\n",
    "field = '@timestamp'\n",
    "print(get_element(src, field.split('.')).to_dicts())\n",
    "\n",
    "field = 'host.name'\n",
    "print(get_element(src, field.split('.')).to_dicts())\n",
    "\n",
    "field = 'host.os.name'\n",
    "print(get_element(src, field.split('.')).to_dicts())\n",
    "\n",
    "field = 'process.command_line'\n",
    "print(get_element(src, field.split('.')).to_dicts())\n"
   ]
  },
  {
   "cell_type": "markdown",
   "metadata": {},
   "source": [
    "# Merging"
   ]
  },
  {
   "cell_type": "code",
   "execution_count": 321,
   "metadata": {},
   "outputs": [
    {
     "data": {
      "text/plain": [
       "[{'@timestamp': '2022-10-21T15:51:14.476Z',\n",
       "  'host': {'name': 'asarea.vxnwua.net', 'os': {'name': 'Windows 10 Pro'}},\n",
       "  'process': {'command_line': 'C:\\\\Windows\\\\system32\\\\wbem\\\\wmiprvse.exe -secured -Embedding'}},\n",
       " {'@timestamp': '2022-10-21T15:51:15.050Z',\n",
       "  'host': {'name': 'asarea.vxnwua.net', 'os': {'name': 'Windows 10 Pro'}},\n",
       "  'process': {'command_line': 'C:\\\\Windows\\\\system32\\\\sppsvc.exe'}},\n",
       " {'@timestamp': '2022-10-21T15:51:11.115Z',\n",
       "  'host': {'name': 'asarea.vxnwua.net', 'os': {'name': 'Windows 10 Pro'}},\n",
       "  'process': {'command_line': 'taskhostw.exe'}}]"
      ]
     },
     "execution_count": 321,
     "metadata": {},
     "output_type": "execute_result"
    }
   ],
   "source": [
    "def advance(columns:list[pl.DataFrame]) -> list[pl.DataFrame]:\n",
    "    new = []\n",
    "    name = columns[0].columns[0]\n",
    "    for i in columns:\n",
    "        new.append(i.select(name).unnest(name))\n",
    "        \n",
    "    return new\n",
    "\n",
    "def merge(frames):\n",
    "    columns = {}\n",
    "    for i in frames:\n",
    "        name = i.columns[0]\n",
    "        \n",
    "        if name not in columns:\n",
    "            columns[name] = []\n",
    "        \n",
    "        columns[name].append(i)\n",
    "        \n",
    "    mergable = []\n",
    "    for i in columns:\n",
    "        if len(columns[i]) == 1:\n",
    "            mergable.append(columns[i][0])\n",
    "            continue\n",
    "\n",
    "        new = pl.DataFrame({i: merge(advance(columns[i])).to_struct()})\n",
    "\n",
    "        mergable.append(new)\n",
    "        \n",
    "    return pl.concat(mergable, how=\"horizontal\")\n",
    "\n",
    "fields = \"@timestamp, host.name, host.os.name, process.command_line\".split(', ')\n",
    "\n",
    "frames = []\n",
    "for idx, field in enumerate(fields):\n",
    "    splits = field.split('.')\n",
    "    frames.append(get_element(src, splits))\n",
    "\n",
    "merge(frames).to_dicts()"
   ]
  },
  {
   "cell_type": "code",
   "execution_count": null,
   "metadata": {},
   "outputs": [],
   "source": []
  }
 ],
 "metadata": {
  "kernelspec": {
   "display_name": ".venv",
   "language": "python",
   "name": "python3"
  },
  "language_info": {
   "codemirror_mode": {
    "name": "ipython",
    "version": 3
   },
   "file_extension": ".py",
   "mimetype": "text/x-python",
   "name": "python",
   "nbconvert_exporter": "python",
   "pygments_lexer": "ipython3",
   "version": "3.9.21"
  }
 },
 "nbformat": 4,
 "nbformat_minor": 2
}
