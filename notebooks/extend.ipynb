{
 "cells": [
  {
   "cell_type": "markdown",
   "metadata": {},
   "source": [
    "# Extend"
   ]
  },
  {
   "cell_type": "code",
   "execution_count": 2,
   "metadata": {},
   "outputs": [],
   "source": [
    "import polars as pl\n",
    "\n",
    "def get_element(data:pl.DataFrame, fields:list[str], index:int=0):\n",
    "    if index == len(fields):\n",
    "        return pl.DataFrame({fields[index-1]: data.to_struct()})\n",
    "    \n",
    "    split = fields[index]\n",
    "\n",
    "    if split not in data:\n",
    "        return pl.DataFrame({})\n",
    "\n",
    "    new = data.select(split)\n",
    "    \n",
    "    if len(fields) == 1:\n",
    "        return new\n",
    "        \n",
    "    if isinstance(new[split].dtype, pl.Struct):\n",
    "        new = new.unnest(split)\n",
    "    else:\n",
    "        return pl.DataFrame({fields[index-1]: new.to_struct()})\n",
    "        \n",
    "    rec_data = get_element(new, fields, index + 1)\n",
    "    \n",
    "    if index == 0:\n",
    "        return rec_data\n",
    "    else:\n",
    "        return pl.DataFrame({fields[index-1]: rec_data.to_struct()})"
   ]
  },
  {
   "cell_type": "code",
   "execution_count": 3,
   "metadata": {},
   "outputs": [],
   "source": [
    "sample = [{\"@timestamp\": \"2022-10-20T18:27:17.073Z\", \"winlog\": {\"computer_name\": \"asarea.vxnwua.net\"}, \"event\": {\"code\": \"13\"}}, {\"@timestamp\": \"2022-10-20T18:29:03.665Z\", \"winlog\": {\"computer_name\": \"asarea.vxnwua.net\"}, \"event\": {\"code\": \"7\"}}, {\"@timestamp\": \"2022-10-20T18:29:03.540Z\", \"winlog\": {\"computer_name\": \"asarea.vxnwua.net\"}, \"event\": {\"code\": \"12\"}}, {\"@timestamp\": \"2022-10-20T18:29:03.158Z\", \"winlog\": {\"computer_name\": \"asarea.vxnwua.net\"}, \"event\": {\"code\": \"7\"}}, {\"@timestamp\": \"2022-10-20T18:29:03.581Z\", \"winlog\": {\"computer_name\": \"asarea.vxnwua.net\"}, \"event\": {\"code\": \"7\"}}, {\"@timestamp\": \"2022-10-20T18:29:03.539Z\", \"winlog\": {\"computer_name\": \"asarea.vxnwua.net\"}, \"event\": {\"code\": \"12\"}}, {\"@timestamp\": \"2022-10-20T18:29:03.567Z\", \"winlog\": {\"computer_name\": \"asarea.vxnwua.net\"}, \"event\": {\"code\": \"7\"}}, {\"@timestamp\": \"2022-10-20T18:29:03.361Z\", \"winlog\": {\"computer_name\": \"asarea.vxnwua.net\"}, \"event\": {\"code\": \"12\"}}, {\"@timestamp\": \"2022-10-20T18:29:03.260Z\", \"winlog\": {\"computer_name\": \"asarea.vxnwua.net\"}, \"event\": {\"code\": \"10\"}}, {\"@timestamp\": \"2022-10-20T18:29:03.582Z\", \"winlog\": {\"computer_name\": \"asarea.vxnwua.net\"}, \"event\": {\"code\": \"7\"}}]\n",
    "\n",
    "data = pl.from_dicts(sample)"
   ]
  },
  {
   "cell_type": "code",
   "execution_count": 4,
   "metadata": {},
   "outputs": [
    {
     "data": {
      "text/html": [
       "<div><style>\n",
       ".dataframe > thead > tr,\n",
       ".dataframe > tbody > tr {\n",
       "  text-align: right;\n",
       "  white-space: pre-wrap;\n",
       "}\n",
       "</style>\n",
       "<small>shape: (10, 4)</small><table border=\"1\" class=\"dataframe\"><thead><tr><th>@timestamp</th><th>winlog</th><th>event</th><th>EventCode</th></tr><tr><td>str</td><td>struct[1]</td><td>struct[1]</td><td>str</td></tr></thead><tbody><tr><td>&quot;2022-10-20T18:27:17.073Z&quot;</td><td>{&quot;asarea.vxnwua.net&quot;}</td><td>{&quot;13&quot;}</td><td>&quot;13&quot;</td></tr><tr><td>&quot;2022-10-20T18:29:03.665Z&quot;</td><td>{&quot;asarea.vxnwua.net&quot;}</td><td>{&quot;7&quot;}</td><td>&quot;7&quot;</td></tr><tr><td>&quot;2022-10-20T18:29:03.540Z&quot;</td><td>{&quot;asarea.vxnwua.net&quot;}</td><td>{&quot;12&quot;}</td><td>&quot;12&quot;</td></tr><tr><td>&quot;2022-10-20T18:29:03.158Z&quot;</td><td>{&quot;asarea.vxnwua.net&quot;}</td><td>{&quot;7&quot;}</td><td>&quot;7&quot;</td></tr><tr><td>&quot;2022-10-20T18:29:03.581Z&quot;</td><td>{&quot;asarea.vxnwua.net&quot;}</td><td>{&quot;7&quot;}</td><td>&quot;7&quot;</td></tr><tr><td>&quot;2022-10-20T18:29:03.539Z&quot;</td><td>{&quot;asarea.vxnwua.net&quot;}</td><td>{&quot;12&quot;}</td><td>&quot;12&quot;</td></tr><tr><td>&quot;2022-10-20T18:29:03.567Z&quot;</td><td>{&quot;asarea.vxnwua.net&quot;}</td><td>{&quot;7&quot;}</td><td>&quot;7&quot;</td></tr><tr><td>&quot;2022-10-20T18:29:03.361Z&quot;</td><td>{&quot;asarea.vxnwua.net&quot;}</td><td>{&quot;12&quot;}</td><td>&quot;12&quot;</td></tr><tr><td>&quot;2022-10-20T18:29:03.260Z&quot;</td><td>{&quot;asarea.vxnwua.net&quot;}</td><td>{&quot;10&quot;}</td><td>&quot;10&quot;</td></tr><tr><td>&quot;2022-10-20T18:29:03.582Z&quot;</td><td>{&quot;asarea.vxnwua.net&quot;}</td><td>{&quot;7&quot;}</td><td>&quot;7&quot;</td></tr></tbody></table></div>"
      ],
      "text/plain": [
       "shape: (10, 4)\n",
       "┌──────────────────────────┬───────────────────────┬───────────┬───────────┐\n",
       "│ @timestamp               ┆ winlog                ┆ event     ┆ EventCode │\n",
       "│ ---                      ┆ ---                   ┆ ---       ┆ ---       │\n",
       "│ str                      ┆ struct[1]             ┆ struct[1] ┆ str       │\n",
       "╞══════════════════════════╪═══════════════════════╪═══════════╪═══════════╡\n",
       "│ 2022-10-20T18:27:17.073Z ┆ {\"asarea.vxnwua.net\"} ┆ {\"13\"}    ┆ 13        │\n",
       "│ 2022-10-20T18:29:03.665Z ┆ {\"asarea.vxnwua.net\"} ┆ {\"7\"}     ┆ 7         │\n",
       "│ 2022-10-20T18:29:03.540Z ┆ {\"asarea.vxnwua.net\"} ┆ {\"12\"}    ┆ 12        │\n",
       "│ 2022-10-20T18:29:03.158Z ┆ {\"asarea.vxnwua.net\"} ┆ {\"7\"}     ┆ 7         │\n",
       "│ 2022-10-20T18:29:03.581Z ┆ {\"asarea.vxnwua.net\"} ┆ {\"7\"}     ┆ 7         │\n",
       "│ 2022-10-20T18:29:03.539Z ┆ {\"asarea.vxnwua.net\"} ┆ {\"12\"}    ┆ 12        │\n",
       "│ 2022-10-20T18:29:03.567Z ┆ {\"asarea.vxnwua.net\"} ┆ {\"7\"}     ┆ 7         │\n",
       "│ 2022-10-20T18:29:03.361Z ┆ {\"asarea.vxnwua.net\"} ┆ {\"12\"}    ┆ 12        │\n",
       "│ 2022-10-20T18:29:03.260Z ┆ {\"asarea.vxnwua.net\"} ┆ {\"10\"}    ┆ 10        │\n",
       "│ 2022-10-20T18:29:03.582Z ┆ {\"asarea.vxnwua.net\"} ┆ {\"7\"}     ┆ 7         │\n",
       "└──────────────────────────┴───────────────────────┴───────────┴───────────┘"
      ]
     },
     "execution_count": 4,
     "metadata": {},
     "output_type": "execute_result"
    }
   ],
   "source": [
    "df1 = data.select('event').unnest('event')\n",
    "series = df1.select('code')\n",
    "df2 = pl.DataFrame({'EventCode': series})\n",
    "\n",
    "pl.concat([data, df2], how='horizontal')"
   ]
  },
  {
   "cell_type": "code",
   "execution_count": 5,
   "metadata": {},
   "outputs": [
    {
     "data": {
      "text/html": [
       "<div><style>\n",
       ".dataframe > thead > tr,\n",
       ".dataframe > tbody > tr {\n",
       "  text-align: right;\n",
       "  white-space: pre-wrap;\n",
       "}\n",
       "</style>\n",
       "<small>shape: (10,)</small><table border=\"1\" class=\"dataframe\"><thead><tr><th>code</th></tr><tr><td>str</td></tr></thead><tbody><tr><td>&quot;13&quot;</td></tr><tr><td>&quot;7&quot;</td></tr><tr><td>&quot;12&quot;</td></tr><tr><td>&quot;7&quot;</td></tr><tr><td>&quot;7&quot;</td></tr><tr><td>&quot;12&quot;</td></tr><tr><td>&quot;7&quot;</td></tr><tr><td>&quot;12&quot;</td></tr><tr><td>&quot;10&quot;</td></tr><tr><td>&quot;7&quot;</td></tr></tbody></table></div>"
      ],
      "text/plain": [
       "shape: (10,)\n",
       "Series: 'code' [str]\n",
       "[\n",
       "\t\"13\"\n",
       "\t\"7\"\n",
       "\t\"12\"\n",
       "\t\"7\"\n",
       "\t\"7\"\n",
       "\t\"12\"\n",
       "\t\"7\"\n",
       "\t\"12\"\n",
       "\t\"10\"\n",
       "\t\"7\"\n",
       "]"
      ]
     },
     "execution_count": 5,
     "metadata": {},
     "output_type": "execute_result"
    }
   ],
   "source": [
    "def get_element_series(data:pl.DataFrame, fields:list[str], index:int=0):\n",
    "    split = fields[index]\n",
    "    \n",
    "    if split not in data:\n",
    "        raise Exception(f\"Invalid field referenced {'.'.join(fields)}\")\n",
    "    \n",
    "    new = data.select(split)\n",
    "    \n",
    "    if len(fields) == 1:\n",
    "        return new.to_series()\n",
    "    \n",
    "    if isinstance(new[split].dtype, pl.Struct):\n",
    "        new = new.unnest(split)\n",
    "    else:\n",
    "        return new.to_series()\n",
    "    \n",
    "    return get_element_series(new, fields, index + 1)\n",
    "\n",
    "get_element_series(data, ['event', 'code'])"
   ]
  },
  {
   "cell_type": "code",
   "execution_count": 6,
   "metadata": {},
   "outputs": [],
   "source": [
    "def build_element(name:list[str], data):\n",
    "    if len(name) == 1:\n",
    "        return pl.DataFrame({name[0]: data})\n",
    "    \n",
    "    new = build_element(name[1:], data)\n",
    "    return pl.DataFrame({name[0]: new.to_struct()})"
   ]
  },
  {
   "cell_type": "code",
   "execution_count": 7,
   "metadata": {},
   "outputs": [
    {
     "data": {
      "text/plain": [
       "[{'test': {'here': '13'}},\n",
       " {'test': {'here': '7'}},\n",
       " {'test': {'here': '12'}},\n",
       " {'test': {'here': '7'}},\n",
       " {'test': {'here': '7'}},\n",
       " {'test': {'here': '12'}},\n",
       " {'test': {'here': '7'}},\n",
       " {'test': {'here': '12'}},\n",
       " {'test': {'here': '10'}},\n",
       " {'test': {'here': '7'}}]"
      ]
     },
     "execution_count": 7,
     "metadata": {},
     "output_type": "execute_result"
    }
   ],
   "source": [
    "df1 = get_element_series(data, ['event', 'code'])\n",
    "build_element(['test', 'here'], df1).to_dicts()"
   ]
  },
  {
   "cell_type": "code",
   "execution_count": 8,
   "metadata": {},
   "outputs": [],
   "source": [
    "def extend(data:pl.DataFrame, src:list[str], dest:list[str]):\n",
    "    src_data = get_element_series(data, src)\n",
    "    # Can do whatever with src_data here\n",
    "    dest_data = build_element(dest, src_data)\n",
    "    return pl.concat([data, dest_data], how='horizontal')"
   ]
  },
  {
   "cell_type": "code",
   "execution_count": 9,
   "metadata": {},
   "outputs": [
    {
     "data": {
      "text/html": [
       "<div><style>\n",
       ".dataframe > thead > tr,\n",
       ".dataframe > tbody > tr {\n",
       "  text-align: right;\n",
       "  white-space: pre-wrap;\n",
       "}\n",
       "</style>\n",
       "<small>shape: (10, 4)</small><table border=\"1\" class=\"dataframe\"><thead><tr><th>@timestamp</th><th>winlog</th><th>event</th><th>EventCode</th></tr><tr><td>str</td><td>struct[1]</td><td>struct[1]</td><td>str</td></tr></thead><tbody><tr><td>&quot;2022-10-20T18:27:17.073Z&quot;</td><td>{&quot;asarea.vxnwua.net&quot;}</td><td>{&quot;13&quot;}</td><td>&quot;13&quot;</td></tr><tr><td>&quot;2022-10-20T18:29:03.665Z&quot;</td><td>{&quot;asarea.vxnwua.net&quot;}</td><td>{&quot;7&quot;}</td><td>&quot;7&quot;</td></tr><tr><td>&quot;2022-10-20T18:29:03.540Z&quot;</td><td>{&quot;asarea.vxnwua.net&quot;}</td><td>{&quot;12&quot;}</td><td>&quot;12&quot;</td></tr><tr><td>&quot;2022-10-20T18:29:03.158Z&quot;</td><td>{&quot;asarea.vxnwua.net&quot;}</td><td>{&quot;7&quot;}</td><td>&quot;7&quot;</td></tr><tr><td>&quot;2022-10-20T18:29:03.581Z&quot;</td><td>{&quot;asarea.vxnwua.net&quot;}</td><td>{&quot;7&quot;}</td><td>&quot;7&quot;</td></tr><tr><td>&quot;2022-10-20T18:29:03.539Z&quot;</td><td>{&quot;asarea.vxnwua.net&quot;}</td><td>{&quot;12&quot;}</td><td>&quot;12&quot;</td></tr><tr><td>&quot;2022-10-20T18:29:03.567Z&quot;</td><td>{&quot;asarea.vxnwua.net&quot;}</td><td>{&quot;7&quot;}</td><td>&quot;7&quot;</td></tr><tr><td>&quot;2022-10-20T18:29:03.361Z&quot;</td><td>{&quot;asarea.vxnwua.net&quot;}</td><td>{&quot;12&quot;}</td><td>&quot;12&quot;</td></tr><tr><td>&quot;2022-10-20T18:29:03.260Z&quot;</td><td>{&quot;asarea.vxnwua.net&quot;}</td><td>{&quot;10&quot;}</td><td>&quot;10&quot;</td></tr><tr><td>&quot;2022-10-20T18:29:03.582Z&quot;</td><td>{&quot;asarea.vxnwua.net&quot;}</td><td>{&quot;7&quot;}</td><td>&quot;7&quot;</td></tr></tbody></table></div>"
      ],
      "text/plain": [
       "shape: (10, 4)\n",
       "┌──────────────────────────┬───────────────────────┬───────────┬───────────┐\n",
       "│ @timestamp               ┆ winlog                ┆ event     ┆ EventCode │\n",
       "│ ---                      ┆ ---                   ┆ ---       ┆ ---       │\n",
       "│ str                      ┆ struct[1]             ┆ struct[1] ┆ str       │\n",
       "╞══════════════════════════╪═══════════════════════╪═══════════╪═══════════╡\n",
       "│ 2022-10-20T18:27:17.073Z ┆ {\"asarea.vxnwua.net\"} ┆ {\"13\"}    ┆ 13        │\n",
       "│ 2022-10-20T18:29:03.665Z ┆ {\"asarea.vxnwua.net\"} ┆ {\"7\"}     ┆ 7         │\n",
       "│ 2022-10-20T18:29:03.540Z ┆ {\"asarea.vxnwua.net\"} ┆ {\"12\"}    ┆ 12        │\n",
       "│ 2022-10-20T18:29:03.158Z ┆ {\"asarea.vxnwua.net\"} ┆ {\"7\"}     ┆ 7         │\n",
       "│ 2022-10-20T18:29:03.581Z ┆ {\"asarea.vxnwua.net\"} ┆ {\"7\"}     ┆ 7         │\n",
       "│ 2022-10-20T18:29:03.539Z ┆ {\"asarea.vxnwua.net\"} ┆ {\"12\"}    ┆ 12        │\n",
       "│ 2022-10-20T18:29:03.567Z ┆ {\"asarea.vxnwua.net\"} ┆ {\"7\"}     ┆ 7         │\n",
       "│ 2022-10-20T18:29:03.361Z ┆ {\"asarea.vxnwua.net\"} ┆ {\"12\"}    ┆ 12        │\n",
       "│ 2022-10-20T18:29:03.260Z ┆ {\"asarea.vxnwua.net\"} ┆ {\"10\"}    ┆ 10        │\n",
       "│ 2022-10-20T18:29:03.582Z ┆ {\"asarea.vxnwua.net\"} ┆ {\"7\"}     ┆ 7         │\n",
       "└──────────────────────────┴───────────────────────┴───────────┴───────────┘"
      ]
     },
     "execution_count": 9,
     "metadata": {},
     "output_type": "execute_result"
    }
   ],
   "source": [
    "extend(data, ['event', 'code'], ['EventCode'])"
   ]
  },
  {
   "cell_type": "code",
   "execution_count": 11,
   "metadata": {},
   "outputs": [
    {
     "data": {
      "text/html": [
       "<div><style>\n",
       ".dataframe > thead > tr,\n",
       ".dataframe > tbody > tr {\n",
       "  text-align: right;\n",
       "  white-space: pre-wrap;\n",
       "}\n",
       "</style>\n",
       "<small>shape: (10,)</small><table border=\"1\" class=\"dataframe\"><thead><tr><th>code</th></tr><tr><td>i32</td></tr></thead><tbody><tr><td>13</td></tr><tr><td>7</td></tr><tr><td>12</td></tr><tr><td>7</td></tr><tr><td>7</td></tr><tr><td>12</td></tr><tr><td>7</td></tr><tr><td>12</td></tr><tr><td>10</td></tr><tr><td>7</td></tr></tbody></table></div>"
      ],
      "text/plain": [
       "shape: (10,)\n",
       "Series: 'code' [i32]\n",
       "[\n",
       "\t13\n",
       "\t7\n",
       "\t12\n",
       "\t7\n",
       "\t7\n",
       "\t12\n",
       "\t7\n",
       "\t12\n",
       "\t10\n",
       "\t7\n",
       "]"
      ]
     },
     "execution_count": 11,
     "metadata": {},
     "output_type": "execute_result"
    }
   ],
   "source": [
    "series = get_element_series(data, ['event', 'code'])\n",
    "series.cast(pl.Int32)\n"
   ]
  }
 ],
 "metadata": {
  "kernelspec": {
   "display_name": ".venv",
   "language": "python",
   "name": "python3"
  },
  "language_info": {
   "codemirror_mode": {
    "name": "ipython",
    "version": 3
   },
   "file_extension": ".py",
   "mimetype": "text/x-python",
   "name": "python",
   "nbconvert_exporter": "python",
   "pygments_lexer": "ipython3",
   "version": "3.9.21"
  }
 },
 "nbformat": 4,
 "nbformat_minor": 2
}
