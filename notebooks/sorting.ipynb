{
 "cells": [
  {
   "cell_type": "markdown",
   "metadata": {},
   "source": [
    "# Sorting"
   ]
  },
  {
   "cell_type": "code",
   "execution_count": 1,
   "metadata": {},
   "outputs": [],
   "source": [
    "import polars as pl\n",
    "import json"
   ]
  },
  {
   "cell_type": "code",
   "execution_count": 6,
   "metadata": {},
   "outputs": [
    {
     "data": {
      "text/html": [
       "<div><style>\n",
       ".dataframe > thead > tr,\n",
       ".dataframe > tbody > tr {\n",
       "  text-align: right;\n",
       "  white-space: pre-wrap;\n",
       "}\n",
       "</style>\n",
       "<small>shape: (620, 2)</small><table border=\"1\" class=\"dataframe\"><thead><tr><th>port</th><th>ip</th></tr><tr><td>str</td><td>str</td></tr></thead><tbody><tr><td>&quot;57502&quot;</td><td>&quot;192.168.125.14&quot;</td></tr><tr><td>&quot;57502&quot;</td><td>&quot;192.168.126.2&quot;</td></tr><tr><td>&quot;57509&quot;</td><td>&quot;192.168.125.14&quot;</td></tr><tr><td>&quot;57493&quot;</td><td>&quot;192.168.125.14&quot;</td></tr><tr><td>&quot;57491&quot;</td><td>&quot;192.168.125.14&quot;</td></tr><tr><td>&hellip;</td><td>&hellip;</td></tr><tr><td>&quot;54211&quot;</td><td>&quot;192.168.125.12&quot;</td></tr><tr><td>&quot;52337&quot;</td><td>&quot;192.168.126.2&quot;</td></tr><tr><td>&quot;52337&quot;</td><td>&quot;192.168.126.2&quot;</td></tr><tr><td>&quot;63950&quot;</td><td>&quot;192.168.50.66&quot;</td></tr><tr><td>&quot;59674&quot;</td><td>&quot;192.168.50.66&quot;</td></tr></tbody></table></div>"
      ],
      "text/plain": [
       "shape: (620, 2)\n",
       "┌───────┬────────────────┐\n",
       "│ port  ┆ ip             │\n",
       "│ ---   ┆ ---            │\n",
       "│ str   ┆ str            │\n",
       "╞═══════╪════════════════╡\n",
       "│ 57502 ┆ 192.168.125.14 │\n",
       "│ 57502 ┆ 192.168.126.2  │\n",
       "│ 57509 ┆ 192.168.125.14 │\n",
       "│ 57493 ┆ 192.168.125.14 │\n",
       "│ 57491 ┆ 192.168.125.14 │\n",
       "│ …     ┆ …              │\n",
       "│ 54211 ┆ 192.168.125.12 │\n",
       "│ 52337 ┆ 192.168.126.2  │\n",
       "│ 52337 ┆ 192.168.126.2  │\n",
       "│ 63950 ┆ 192.168.50.66  │\n",
       "│ 59674 ┆ 192.168.50.66  │\n",
       "└───────┴────────────────┘"
      ]
     },
     "execution_count": 6,
     "metadata": {},
     "output_type": "execute_result"
    }
   ],
   "source": [
    "with open('./network.json') as f:\n",
    "    data = pl.from_dicts(json.loads(f.read()))\n",
    "    \n",
    "null1 = data.filter(pl.col('client').is_null())\n",
    "good1 = data.filter(pl.col('client').is_not_null()).select('client').unnest('client')\n",
    "good1\n",
    "\n",
    "#good1.sort('bytes', descending=True, nulls_last=True)"
   ]
  }
 ],
 "metadata": {
  "kernelspec": {
   "display_name": ".venv",
   "language": "python",
   "name": "python3"
  },
  "language_info": {
   "codemirror_mode": {
    "name": "ipython",
    "version": 3
   },
   "file_extension": ".py",
   "mimetype": "text/x-python",
   "name": "python",
   "nbconvert_exporter": "python",
   "pygments_lexer": "ipython3",
   "version": "3.9.21"
  }
 },
 "nbformat": 4,
 "nbformat_minor": 2
}
